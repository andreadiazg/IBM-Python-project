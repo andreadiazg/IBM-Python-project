{
    "cells": [
        {
            "cell_type": "markdown",
            "metadata": {},
            "source": "<center>\n    <img src=\"https://s3-api.us-geo.objectstorage.softlayer.net/cf-courses-data/CognitiveClass/Logos/organization_logo/organization_logo.png\" width=\"300\" alt=\"cognitiveclass.ai logo\"  />\n</center>\n\n# Analyzing Where Do People Drink?\n\nEstimated time needed: **30** minutes\n\n## Objectives\n\nAfter completing this lab you will be able to:\n\n-   Be confident about your data analysis skills\n"
        },
        {
            "cell_type": "markdown",
            "metadata": {},
            "source": "This Dataset is from the story <a href=https://fivethirtyeight.com/features/dear-mona-followup-where-do-people-drink-the-most-beer-wine-and-spirits/>  Dear Mona Followup: Where Do People Drink The Most Beer, Wine And Spirits? </a>  The dataset contains Average serving sizes per person such as average wine, spirit, beer servings. As well as several other metrics. You will be asked to analyze the data and predict the total liters served given the servings. See how to share your lab at the end.\n"
        },
        {
            "cell_type": "markdown",
            "metadata": {},
            "source": "You will need the following libraries:\n"
        },
        {
            "cell_type": "code",
            "execution_count": 1,
            "metadata": {},
            "outputs": [],
            "source": "import pandas as pd\nimport numpy as np\nimport matplotlib.pyplot as plt\nimport matplotlib as mpl\n\n"
        },
        {
            "cell_type": "markdown",
            "metadata": {},
            "source": "<b>1.0 Importing the Data</b>\n"
        },
        {
            "cell_type": "markdown",
            "metadata": {},
            "source": "Load the csv:\n"
        },
        {
            "cell_type": "code",
            "execution_count": 2,
            "metadata": {},
            "outputs": [],
            "source": "df= pd.read_csv('https://s3-api.us-geo.objectstorage.softlayer.net/cf-courses-data/CognitiveClass/DA0101EN/edx/project/drinks.csv')\n"
        },
        {
            "cell_type": "markdown",
            "metadata": {},
            "source": "We use the method  <code>head()</code>  to display the first 5 columns of the dataframe:\n"
        },
        {
            "cell_type": "code",
            "execution_count": 3,
            "metadata": {},
            "outputs": [
                {
                    "data": {
                        "text/html": "<div>\n<style scoped>\n    .dataframe tbody tr th:only-of-type {\n        vertical-align: middle;\n    }\n\n    .dataframe tbody tr th {\n        vertical-align: top;\n    }\n\n    .dataframe thead th {\n        text-align: right;\n    }\n</style>\n<table border=\"1\" class=\"dataframe\">\n  <thead>\n    <tr style=\"text-align: right;\">\n      <th></th>\n      <th>country</th>\n      <th>beer_servings</th>\n      <th>spirit_servings</th>\n      <th>wine_servings</th>\n      <th>total_litres_of_pure_alcohol</th>\n      <th>continent</th>\n    </tr>\n  </thead>\n  <tbody>\n    <tr>\n      <th>0</th>\n      <td>Afghanistan</td>\n      <td>0</td>\n      <td>0</td>\n      <td>0</td>\n      <td>0.0</td>\n      <td>Asia</td>\n    </tr>\n    <tr>\n      <th>1</th>\n      <td>Albania</td>\n      <td>89</td>\n      <td>132</td>\n      <td>54</td>\n      <td>4.9</td>\n      <td>Europe</td>\n    </tr>\n    <tr>\n      <th>2</th>\n      <td>Algeria</td>\n      <td>25</td>\n      <td>0</td>\n      <td>14</td>\n      <td>0.7</td>\n      <td>Africa</td>\n    </tr>\n    <tr>\n      <th>3</th>\n      <td>Andorra</td>\n      <td>245</td>\n      <td>138</td>\n      <td>312</td>\n      <td>12.4</td>\n      <td>Europe</td>\n    </tr>\n    <tr>\n      <th>4</th>\n      <td>Angola</td>\n      <td>217</td>\n      <td>57</td>\n      <td>45</td>\n      <td>5.9</td>\n      <td>Africa</td>\n    </tr>\n  </tbody>\n</table>\n</div>",
                        "text/plain": "       country  beer_servings  spirit_servings  wine_servings  \\\n0  Afghanistan              0                0              0   \n1      Albania             89              132             54   \n2      Algeria             25                0             14   \n3      Andorra            245              138            312   \n4       Angola            217               57             45   \n\n   total_litres_of_pure_alcohol continent  \n0                           0.0      Asia  \n1                           4.9    Europe  \n2                           0.7    Africa  \n3                          12.4    Europe  \n4                           5.9    Africa  "
                    },
                    "execution_count": 3,
                    "metadata": {},
                    "output_type": "execute_result"
                }
            ],
            "source": "df.head()"
        },
        {
            "cell_type": "markdown",
            "metadata": {},
            "source": "<b>Question 1</b>:  Display the data types of each column using the attribute\u202fdtype.\n"
        },
        {
            "cell_type": "code",
            "execution_count": 4,
            "metadata": {},
            "outputs": [
                {
                    "data": {
                        "text/plain": "country                          object\nbeer_servings                     int64\nspirit_servings                   int64\nwine_servings                     int64\ntotal_litres_of_pure_alcohol    float64\ncontinent                        object\ndtype: object"
                    },
                    "execution_count": 4,
                    "metadata": {},
                    "output_type": "execute_result"
                }
            ],
            "source": "df.dtypes"
        },
        {
            "cell_type": "markdown",
            "metadata": {},
            "source": "<b>Question 2</b> use the method\u202f<code>groupby</code> to get the number of wine servings per continent:\n"
        },
        {
            "cell_type": "code",
            "execution_count": 5,
            "metadata": {},
            "outputs": [
                {
                    "data": {
                        "text/html": "<div>\n<style scoped>\n    .dataframe tbody tr th:only-of-type {\n        vertical-align: middle;\n    }\n\n    .dataframe tbody tr th {\n        vertical-align: top;\n    }\n\n    .dataframe thead th {\n        text-align: right;\n    }\n</style>\n<table border=\"1\" class=\"dataframe\">\n  <thead>\n    <tr style=\"text-align: right;\">\n      <th></th>\n      <th>continent</th>\n      <th>wine_servings</th>\n    </tr>\n  </thead>\n  <tbody>\n    <tr>\n      <th>0</th>\n      <td>Africa</td>\n      <td>862</td>\n    </tr>\n    <tr>\n      <th>1</th>\n      <td>Asia</td>\n      <td>399</td>\n    </tr>\n    <tr>\n      <th>2</th>\n      <td>Europe</td>\n      <td>6400</td>\n    </tr>\n    <tr>\n      <th>3</th>\n      <td>North America</td>\n      <td>564</td>\n    </tr>\n    <tr>\n      <th>4</th>\n      <td>Oceania</td>\n      <td>570</td>\n    </tr>\n  </tbody>\n</table>\n</div>",
                        "text/plain": "       continent  wine_servings\n0         Africa            862\n1           Asia            399\n2         Europe           6400\n3  North America            564\n4        Oceania            570"
                    },
                    "execution_count": 5,
                    "metadata": {},
                    "output_type": "execute_result"
                }
            ],
            "source": "wine_by_cont = df[['wine_servings','continent']]\nwine_by_cont = wine_by_cont.groupby(['continent'], as_index=False).sum()\nwine_by_cont.head()\n"
        },
        {
            "cell_type": "markdown",
            "metadata": {},
            "source": "<b>Question 3:</b> Perform a statistical summary and analysis of beer servings for each continent:\n"
        },
        {
            "cell_type": "code",
            "execution_count": 6,
            "metadata": {},
            "outputs": [
                {
                    "data": {
                        "text/html": "<div>\n<style scoped>\n    .dataframe tbody tr th:only-of-type {\n        vertical-align: middle;\n    }\n\n    .dataframe tbody tr th {\n        vertical-align: top;\n    }\n\n    .dataframe thead tr th {\n        text-align: left;\n    }\n</style>\n<table border=\"1\" class=\"dataframe\">\n  <thead>\n    <tr>\n      <th></th>\n      <th colspan=\"8\" halign=\"left\">beer_servings</th>\n    </tr>\n    <tr>\n      <th></th>\n      <th>count</th>\n      <th>mean</th>\n      <th>std</th>\n      <th>min</th>\n      <th>25%</th>\n      <th>50%</th>\n      <th>75%</th>\n      <th>max</th>\n    </tr>\n  </thead>\n  <tbody>\n    <tr>\n      <th>0</th>\n      <td>53.0</td>\n      <td>61.471698</td>\n      <td>80.557816</td>\n      <td>0.0</td>\n      <td>15.00</td>\n      <td>32.0</td>\n      <td>76.00</td>\n      <td>376.0</td>\n    </tr>\n    <tr>\n      <th>1</th>\n      <td>44.0</td>\n      <td>37.045455</td>\n      <td>49.469725</td>\n      <td>0.0</td>\n      <td>4.25</td>\n      <td>17.5</td>\n      <td>60.50</td>\n      <td>247.0</td>\n    </tr>\n    <tr>\n      <th>2</th>\n      <td>45.0</td>\n      <td>193.777778</td>\n      <td>99.631569</td>\n      <td>0.0</td>\n      <td>127.00</td>\n      <td>219.0</td>\n      <td>270.00</td>\n      <td>361.0</td>\n    </tr>\n    <tr>\n      <th>3</th>\n      <td>23.0</td>\n      <td>145.434783</td>\n      <td>79.621163</td>\n      <td>1.0</td>\n      <td>80.00</td>\n      <td>143.0</td>\n      <td>198.00</td>\n      <td>285.0</td>\n    </tr>\n    <tr>\n      <th>4</th>\n      <td>16.0</td>\n      <td>89.687500</td>\n      <td>96.641412</td>\n      <td>0.0</td>\n      <td>21.00</td>\n      <td>52.5</td>\n      <td>125.75</td>\n      <td>306.0</td>\n    </tr>\n  </tbody>\n</table>\n</div>",
                        "text/plain": "  beer_servings                                                          \n          count        mean        std  min     25%    50%     75%    max\n0          53.0   61.471698  80.557816  0.0   15.00   32.0   76.00  376.0\n1          44.0   37.045455  49.469725  0.0    4.25   17.5   60.50  247.0\n2          45.0  193.777778  99.631569  0.0  127.00  219.0  270.00  361.0\n3          23.0  145.434783  79.621163  1.0   80.00  143.0  198.00  285.0\n4          16.0   89.687500  96.641412  0.0   21.00   52.5  125.75  306.0"
                    },
                    "execution_count": 6,
                    "metadata": {},
                    "output_type": "execute_result"
                }
            ],
            "source": "beer_by_cont = df[['beer_servings','continent']]\nbeer_by_cont = beer_by_cont.groupby(['continent'], as_index=False).describe()\nbeer_by_cont.head()\n"
        },
        {
            "cell_type": "markdown",
            "metadata": {},
            "source": "<b>Question 4:</b> Use the function\u202fboxplot\u202fin the seaborn library to produce a plot that can be used to show the number of beer servings on each continent.\n"
        },
        {
            "cell_type": "code",
            "execution_count": 7,
            "metadata": {},
            "outputs": [
                {
                    "data": {
                        "text/plain": "<matplotlib.axes._subplots.AxesSubplot at 0x7f4fc76ab990>"
                    },
                    "execution_count": 7,
                    "metadata": {},
                    "output_type": "execute_result"
                },
                {
                    "data": {
                        "image/png": "[encoded data removed]",
                        "text/plain": "<Figure size 432x288 with 1 Axes>"
                    },
                    "metadata": {
                        "needs_background": "light"
                    },
                    "output_type": "display_data"
                }
            ],
            "source": "import seaborn as sns \nsns.boxplot(x=\"continent\", y=\"beer_servings\", data=df)"
        },
        {
            "cell_type": "markdown",
            "metadata": {},
            "source": "<b>Question 5</b>: Use the function\u202f<code> regplot</code> in the seaborn library to determine if the number of wine servings is\nnegatively or positively correlated with the number of beer servings.\n"
        },
        {
            "cell_type": "code",
            "execution_count": 8,
            "metadata": {},
            "outputs": [
                {
                    "data": {
                        "text/plain": "<matplotlib.axes._subplots.AxesSubplot at 0x7f4fc6e5ebd0>"
                    },
                    "execution_count": 8,
                    "metadata": {},
                    "output_type": "execute_result"
                },
                {
                    "data": {
                        "image/png": "[encoded data removed]",
                        "text/plain": "<Figure size 432x288 with 1 Axes>"
                    },
                    "metadata": {
                        "needs_background": "light"
                    },
                    "output_type": "display_data"
                }
            ],
            "source": "import seaborn as sns \nsns.regplot(x=\"wine_servings\",y=\"beer_servings\",data=df)\n"
        },
        {
            "cell_type": "markdown",
            "metadata": {},
            "source": "<b> Question 6:</b> Fit a linear regression model to predict the <code>'total_litres_of_pure_alcohol'</code> using the number of <code>'wine_servings'</code> then calculate $R^{2}$:\n"
        },
        {
            "cell_type": "code",
            "execution_count": 9,
            "metadata": {},
            "outputs": [
                {
                    "name": "stdout",
                    "output_type": "stream",
                    "text": "Prediction = [[3.15407943]\n [3.30895654]\n [3.17620474]\n [3.54601333]\n [3.34056411]\n [3.30895654]\n [3.41642228]\n [3.27418821]\n [3.48279819]\n [3.46067289]\n [3.19516928]\n [3.35320714]\n [3.21729458]\n [3.15407943]\n [3.35320714]\n [3.60922847]\n [3.48595894]\n [3.36901093]\n [3.18884776]\n [3.16672246]\n [3.27418821]\n [3.29947427]\n [3.32476032]\n [3.38165395]\n [3.17304398]\n [3.47963743]\n [3.289992  ]\n [3.35320714]\n [3.28050972]\n [3.28050972]\n [3.22361609]\n [3.33740335]\n [3.41326153]\n [3.21097306]\n [3.16672246]\n [3.39429698]\n [3.3121173 ]\n [3.28683124]\n [3.15724019]\n [3.20781231]\n [3.34056411]\n [3.29315275]\n [3.47647667]\n [3.28683124]\n [3.41326153]\n [3.52704879]\n [3.15407943]\n [3.22677685]\n [3.48279819]\n [3.18884776]\n [3.36268941]\n [3.35004638]\n [3.28683124]\n [3.16040095]\n [3.22361609]\n [3.33740335]\n [3.16988322]\n [3.45435137]\n [3.17620474]\n [3.21729458]\n [3.47015516]\n [3.52704879]\n [3.43538683]\n [3.22993761]\n [3.32476032]\n [3.511245  ]\n [3.21097306]\n [3.41642228]\n [3.53020954]\n [3.22361609]\n [3.16040095]\n [3.23309837]\n [3.3784932 ]\n [3.34056411]\n [3.24890215]\n [3.511245  ]\n [3.36268941]\n [3.22361609]\n [3.15724019]\n [3.15407943]\n [3.16040095]\n [3.51440576]\n [3.23309837]\n [3.35952865]\n [3.26154518]\n [3.37533244]\n [3.16988322]\n [3.36901093]\n [3.21097306]\n [3.18568701]\n [3.15407943]\n [3.22993761]\n [3.35004638]\n [3.48595894]\n [3.21413382]\n [3.24258064]\n [3.25206291]\n [3.15407943]\n [3.56181712]\n [3.51440576]\n [3.17936549]\n [3.20149079]\n [3.16356171]\n [3.15407943]\n [3.17304398]\n [3.36268941]\n [3.15407943]\n [3.15407943]\n [3.23625912]\n [3.32792108]\n [3.22677685]\n [3.15407943]\n [3.30895654]\n [3.30895654]\n [3.16988322]\n [3.19516928]\n [3.15724019]\n [3.36901093]\n [3.18568701]\n [3.16040095]\n [3.45119061]\n [3.44802986]\n [3.26470594]\n [3.15724019]\n [3.44170834]\n [3.37533244]\n [3.36585017]\n [3.17620474]\n [3.15407943]\n [3.37217168]\n [3.38165395]\n [3.20149079]\n [3.38481471]\n [3.34688563]\n [3.29947427]\n [3.49860197]\n [3.50176273]\n [3.18252625]\n [3.46383364]\n [3.35320714]\n [3.48279819]\n [3.51756652]\n [3.36901093]\n [3.39745774]\n [3.47331591]\n [3.35320714]\n [3.23625912]\n [3.15407943]\n [3.28683124]\n [3.15724019]\n [3.16356171]\n [3.45751213]\n [3.28367048]\n [3.36585017]\n [3.20149079]\n [3.51440576]\n [3.4891197 ]\n [3.19200852]\n [3.15407943]\n [3.41326153]\n [3.47015516]\n [3.22361609]\n [3.20781231]\n [3.33108184]\n [3.30263502]\n [3.38165395]\n [3.47647667]\n [3.18568701]\n [3.16356171]\n [3.3563679 ]\n [3.27734897]\n [3.15724019]\n [3.19516928]\n [3.18884776]\n [3.3563679 ]\n [3.19516928]\n [3.19833004]\n [3.22361609]\n [3.18568701]\n [3.41642228]\n [3.43538683]\n [3.24258064]\n [3.48279819]\n [3.3342426 ]\n [3.42906531]\n [3.36268941]\n [3.22993761]\n [3.18252625]\n [3.39745774]\n [3.21729458]\n [3.15724019]\n [3.23309837]\n [3.30263502]]\nRsquared = 0.4456875459787605\n"
                }
            ],
            "source": "from sklearn.linear_model import LinearRegression\nlm = LinearRegression() \nx = df[[\"wine_servings\"]]\ny = df[[\"total_litres_of_pure_alcohol\"]]\nlm.fit(x,y)\nprint('Prediction =', lm.predict(y))\nprint('Rsquared =', lm.score(x,y) )"
        },
        {
            "cell_type": "markdown",
            "metadata": {},
            "source": "<br>\n<b>Note:</b> Please use <code>test_size = 0.10</code> in the following questions.\n"
        },
        {
            "cell_type": "markdown",
            "metadata": {},
            "source": "### Question 7\n\nUse the list of features to predict the <code>'total_litres_of_pure_alcohol'</code>, split the data into training and testing and determine the $R^2$ on the test data, using the provided code:\n"
        },
        {
            "cell_type": "code",
            "execution_count": 11,
            "metadata": {},
            "outputs": [
                {
                    "name": "stdout",
                    "output_type": "stream",
                    "text": "Rsquared= 0.7067463833426811\nY_pred= [[0.76807649]\n [4.69065931]\n [8.33367349]\n [0.87108672]\n [0.76807649]\n [1.9224773 ]\n [1.71760557]\n [1.84796081]\n [3.56233368]\n [3.65973944]\n [5.1842363 ]\n [6.98385926]\n [7.62202657]\n [4.56559638]\n [0.99946003]\n [5.77873785]\n [1.1538102 ]\n [5.1902773 ]\n [6.24028111]\n [2.04002572]]\n"
                }
            ],
            "source": "from sklearn.linear_model import LinearRegression\nfrom sklearn.model_selection import train_test_split\nfrom sklearn.preprocessing import PolynomialFeatures\nimport matplotlib.pyplot as plt\n\nx_data = df[['beer_servings', 'spirit_servings', 'wine_servings']]\ny_data = df[['total_litres_of_pure_alcohol']]\nx_train,x_test,y_train,y_test = train_test_split (x_data, y_data, test_size = 0.10, random_state=0)\nlm.fit(x_test,y_test)\nprint ('Rsquared=', lm.score(x_test,y_test)) \nprint ('Y_pred=', lm.predict(x_test))"
        },
        {
            "cell_type": "markdown",
            "metadata": {},
            "source": "<b>Question 8 :</b> Create a pipeline object that scales the data, performs a polynomial transform and fits a linear regression model. Fit the object using the training data in the question above, then calculate the R^2 using. the test data. Take a screenshot of your code and the $R^{2}$. There are some hints in the notebook:\n"
        },
        {
            "cell_type": "markdown",
            "metadata": {},
            "source": "<code>'scale'</code>\n\n<code>'polynomial'</code>\n\n<code>'model'</code>\n\nThe second element in the tuple contains the model constructor\n\n<code>StandardScaler()</code>\n\n<code>PolynomialFeatures(include_bias=False)</code>\n\n<code>LinearRegression()</code>\n"
        },
        {
            "cell_type": "code",
            "execution_count": 16,
            "metadata": {},
            "outputs": [
                {
                    "name": "stdout",
                    "output_type": "stream",
                    "text": "Rsquared= 0.7076376133886035\n"
                }
            ],
            "source": "from sklearn.pipeline import Pipeline\nfrom sklearn.preprocessing import StandardScaler,PolynomialFeatures\ninput = [('scale', StandardScaler()), ('polynomial', PolynomialFeatures(include_bias=False)), ('model', LinearRegression())]\npipe = Pipeline(input)\npipe.fit(x_train, y_train)\nprint ('Rsquared=', pipe.score(x_test,y_test))\n\n "
        },
        {
            "cell_type": "markdown",
            "metadata": {},
            "source": "<b>Question 9</b>: Create and fit a Ridge regression object using the training data, setting the regularization parameter to 0.1 and calculate the $R^{2}$ using the test data. Take a screenshot of your code and the $R^{2}$\n"
        },
        {
            "cell_type": "code",
            "execution_count": 18,
            "metadata": {},
            "outputs": [
                {
                    "name": "stdout",
                    "output_type": "stream",
                    "text": "Rsquared= 0.699030454901918\n"
                }
            ],
            "source": "from sklearn.linear_model import Ridge\nRidgeModel = Ridge(alpha=0.1)\nRidgeModel.fit(x_train,y_train)\n\nprint ('Rsquared=', RidgeModel.score(x_test,y_test))\n"
        },
        {
            "cell_type": "markdown",
            "metadata": {},
            "source": "<b>Question 10 </b>: Perform a 2nd order polynomial transform on both the training data and testing data.  Create and fit a Ridge regression object using the training data, setting the regularization parameter to 0.1. Calculate the $R^{2}$ utilizing the test data provided. Take a screen-shot of your code and the $R^{2}$. \n"
        },
        {
            "cell_type": "code",
            "execution_count": 26,
            "metadata": {},
            "outputs": [
                {
                    "name": "stdout",
                    "output_type": "stream",
                    "text": "Rsquared= 0.7076376228095799\n"
                }
            ],
            "source": "pr = PolynomialFeatures(degree=2)\nx_train_pr = pr.fit_transform (x_train)\nx_test_pr = pr.fit_transform (x_test)\nRidgeModel.fit(x_train_pr,y_train)\nprint ('Rsquared=', RidgeModel.score(x_test_pr,y_test))"
        },
        {
            "cell_type": "markdown",
            "metadata": {},
            "source": "<a href=\"https://dataplatform.cloud.ibm.com/docs/content/wsj/analyze-data/share-notebooks.html\\\" > CLICK HERE </a>  to see how to share your notebook\n"
        },
        {
            "cell_type": "markdown",
            "metadata": {},
            "source": "<b>Sources</b>\n"
        },
        {
            "cell_type": "markdown",
            "metadata": {},
            "source": "<a href=https://fivethirtyeight.com/features/dear-mona-followup-where-do-people-drink-the-most-beer-wine-and-spirits/> Dear Mona Followup: Where Do People Drink The Most Beer, Wine And Spirits?</a> by By Mona Chalabi , you can download the dataset <a href=https://github.com/fivethirtyeight/data/tree/master/alcohol-consumption>here</a>.\n"
        },
        {
            "cell_type": "markdown",
            "metadata": {},
            "source": "### Thank you for completing this lab!\n\n## Author\n\n<a href=\"https://www.linkedin.com/in/joseph-s-50398b136/\" target=\"_blank\">Joseph Santarcangelo</a>\n\n## Change Log\n\n| Date (YYYY-MM-DD) | Version | Changed By | Change Description                 |\n| ----------------- | ------- | ---------- | ---------------------------------- |\n| 2020-08-27        | 2.0     | Lavanya    | Moved lab to course repo in GitLab |\n\n<hr>\n\n## <h3 align=\"center\"> \u00a9 IBM Corporation 2020. All rights reserved. <h3/>\n"
        }
    ],
    "metadata": {
        "kernelspec": {
            "display_name": "Python 3.7",
            "language": "python",
            "name": "python3"
        },
        "language_info": {
            "codemirror_mode": {
                "name": "ipython",
                "version": 3
            },
            "file_extension": ".py",
            "mimetype": "text/x-python",
            "name": "python",
            "nbconvert_exporter": "python",
            "pygments_lexer": "ipython3",
            "version": "3.7.9"
        }
    },
    "nbformat": 4,
    "nbformat_minor": 2
}